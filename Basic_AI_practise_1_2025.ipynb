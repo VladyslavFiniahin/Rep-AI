{
  "cells": [
    {
      "cell_type": "markdown",
      "metadata": {
        "id": "UfI7FZudfGwv"
      },
      "source": [
        "# I. NumPy."
      ]
    },
    {
      "cell_type": "markdown",
      "metadata": {
        "id": "fQcvdlwdimQb"
      },
      "source": [
        "**Оцінювання даної роботи буде ураховувати якість Вашого коду та текстових відповідей. При наявності ЛИШЕ коду , робота оцінюватися НЕ БУДЕ.**  \n",
        "\n",
        "**Оформлення текстових відповідей повинно проводитися в текстових комірках ноутбука з використанням синтаксису [LaTeX](https://en.wikibooks.org/wiki/LaTeX/Basics) для оформлення тексту та формул.**\n",
        "\n",
        "**Роботи ідентифіковані як ІДЕНТИЧНІ одразу отримують 0 балів.**\n",
        "\n",
        "**При реалізації завдань потрібно використовувати методи з бібліотеки numpy та pandas.**\n",
        "\n",
        "**Рішення з циклами будуть оцінені в 0 балів.**"
      ]
    },
    {
      "cell_type": "markdown",
      "metadata": {
        "id": "XmA3PWg8fJxn"
      },
      "source": [
        "0. Імпортувати numpy загальноприйнятим способом."
      ]
    },
    {
      "cell_type": "code",
      "execution_count": 5,
      "metadata": {
        "id": "JUli5tR8eTXG"
      },
      "outputs": [],
      "source": [
        "import numpy as np"
      ]
    },
    {
      "cell_type": "markdown",
      "metadata": {
        "id": "fppWPwoFjTrl"
      },
      "source": [
        "1. Визначити список з оцінками студента(ки) за семестр. Використовуючи його, створити одновимірний масив numpy."
      ]
    },
    {
      "cell_type": "code",
      "execution_count": 55,
      "metadata": {
        "id": "cuvs9lNAjVoB"
      },
      "outputs": [
        {
          "name": "stdout",
          "output_type": "stream",
          "text": [
            "[ 51  74  71  62  55  98 100  73  50]\n"
          ]
        }
      ],
      "source": [
        "marks = [51, 74, 71, 62, 55, 98, 100, 73, 50]\n",
        "marks_array = np.array(marks)\n",
        "\n",
        "print(marks_array)"
      ]
    },
    {
      "cell_type": "markdown",
      "metadata": {
        "id": "OGeLtAwcjcMB"
      },
      "source": [
        "2. Визначити список зі списками, де кожен рядок списку формально означає магазин, а кожна колонка - певний продукт (батон, яйця першої категорії, молоко та ковбаса), а елементами на пересічі є ціни на ці продукти відповідно. Використовуючи цей список, створити матрицю (двовимірний масив) numpy."
      ]
    },
    {
      "cell_type": "code",
      "execution_count": 90,
      "metadata": {
        "id": "zJ9kEAv5jcVo"
      },
      "outputs": [
        {
          "name": "stdout",
          "output_type": "stream",
          "text": [
            "Тип даних: float64\n"
          ]
        }
      ],
      "source": [
        "prices = [\n",
        "    [21.99, 42, 499.99, 63], #формально перший магаз\n",
        "    [10, 70, 44.50, 90],     #формально другий магаз\n",
        "    [99.99, 32, 69, 199.99]  ##формально третій магаз\n",
        "]\n",
        "prices_array = np.array(prices)"
      ]
    },
    {
      "cell_type": "markdown",
      "metadata": {
        "id": "wK7wrEw2jcix"
      },
      "source": [
        "3. Отримайте тип даних значень з масивів завдань 2 та 3. Виведіть їх на екран."
      ]
    },
    {
      "cell_type": "code",
      "execution_count": 57,
      "metadata": {
        "id": "uDBL1x6vjcq9"
      },
      "outputs": [
        {
          "name": "stdout",
          "output_type": "stream",
          "text": [
            "Тип даних: float64\n"
          ]
        }
      ],
      "source": [
        "print(\"Тип даних:\", prices_array.dtype)"
      ]
    },
    {
      "cell_type": "markdown",
      "metadata": {
        "id": "nNhAgsC3jcyp"
      },
      "source": [
        "4. Отримайте форми (кортеж з кількістю рядків та колонок) масивів завдань 2 та 3. Виведіть їх на екран."
      ]
    },
    {
      "cell_type": "code",
      "execution_count": 58,
      "metadata": {
        "id": "Fi5oXTI8jc4-"
      },
      "outputs": [
        {
          "name": "stdout",
          "output_type": "stream",
          "text": [
            "Форма масиву: (3, 4)\n"
          ]
        }
      ],
      "source": [
        "print(\"Форма масиву:\", prices_array.shape)"
      ]
    },
    {
      "cell_type": "markdown",
      "metadata": {
        "id": "bpY-N8QZjdW-"
      },
      "source": [
        "5. Створіть одновимірний масив за допомогою спеціальної функції numpy, який би відображав динаміку стабільно зростаючого (з рівними проміжками) прибутку з продажів  за тиждень, де у перший день не було продажів, а в останній день тижня вдалося заробити 1000 грн 50 коп."
      ]
    },
    {
      "cell_type": "code",
      "execution_count": 64,
      "metadata": {
        "id": "r3LcjnUKjdeu"
      },
      "outputs": [
        {
          "name": "stdout",
          "output_type": "stream",
          "text": [
            "Прибуток: [   0.    166.75  333.5   500.25  667.    833.75 1000.5 ]\n"
          ]
        }
      ],
      "source": [
        "profit_array = np.linspace(0, 1000.5, 7)\n",
        "print(\"Прибуток:\", profit_array)"
      ]
    },
    {
      "cell_type": "markdown",
      "metadata": {
        "id": "zQM0SY9jjebO"
      },
      "source": [
        "6. Створіть два масиви. Використовуючи їх, продемонструйте відмінність вертикального та горизонтального обʼєднання масивів."
      ]
    },
    {
      "cell_type": "code",
      "execution_count": 65,
      "metadata": {
        "id": "8uoi0_lxjeh-"
      },
      "outputs": [
        {
          "name": "stdout",
          "output_type": "stream",
          "text": [
            "Вертикальне об'єднання:\n",
            " [[5 6]\n",
            " [7 8]\n",
            " [5 6]\n",
            " [7 8]]\n",
            "Горизонтальне об'єднання:\n",
            " [[5 6 5 6]\n",
            " [7 8 7 8]]\n"
          ]
        }
      ],
      "source": [
        "first_array = np.array([[1, 2], [3, 4]])\n",
        "first_array  = np.array([[5, 6], [7, 8]])\n",
        "\n",
        "vertical_stack = np.vstack((first_array, first_array ))\n",
        "horizontal_stack = np.hstack((first_array , first_array ))\n",
        "\n",
        "print(\"Вертикальне об'єднання:\\n\", vertical_stack)\n",
        "print(\"Горизонтальне об'єднання:\\n\", horizontal_stack)"
      ]
    },
    {
      "cell_type": "markdown",
      "metadata": {
        "id": "Fwh5D1pDm3t7"
      },
      "source": [
        "7. Визначити функцію, яка приймає на вході масив і транспонує його. Скористайтесь методом reshape. І не забудьте почати з docstrings."
      ]
    },
    {
      "cell_type": "code",
      "execution_count": 62,
      "metadata": {
        "id": "FSWZq0mkm31Z"
      },
      "outputs": [
        {
          "name": "stdout",
          "output_type": "stream",
          "text": [
            "Транспонована матриця:\n",
            " [[ 21.99  42.   499.99]\n",
            " [ 63.    10.    70.  ]\n",
            " [ 44.5   90.    99.99]\n",
            " [ 32.    69.   199.99]]\n"
          ]
        }
      ],
      "source": [
        "def transpose_array(arr):\n",
        "    \n",
        "    \"Транспонує вхідний масив за допомогою методу reshape.\"\n",
        "    \n",
        "    return arr.reshape(arr.shape[1], arr.shape[0])\n",
        "\n",
        "transpose_prices = transpose_array(prices_array)\n",
        "print(\"Транспонована матриця:\\n\", transpose_prices)"
      ]
    },
    {
      "cell_type": "markdown",
      "metadata": {
        "id": "Nnxk8vqYm379"
      },
      "source": [
        "8. Створіть два масиви. Використовучи ці масиви, продемонструйте 1) операцію по-елементного додавання, 2) операцію по-елементного віднімання, 3) множення масиву на число, 4) операцію по-елементного множення, і 5) матричного множення."
      ]
    },
    {
      "cell_type": "code",
      "execution_count": 14,
      "metadata": {
        "id": "qO1rfvmVm4BI"
      },
      "outputs": [
        {
          "name": "stdout",
          "output_type": "stream",
          "text": [
            "Поелементне додавання: [ 3  7 11]\n",
            "Поелементне віднімання: [1 1 1]\n",
            "Множення на число: [ 4  8 12]\n",
            "Поелементне множення: [ 2 12 30]\n",
            "Матричне множення: 44\n"
          ]
        }
      ],
      "source": [
        "x = np.array([2, 4, 6])\n",
        "y = np.array([1, 3, 5])\n",
        "\n",
        "print(\"Поелементне додавання:\", x + y)\n",
        "print(\"Поелементне віднімання:\", x - y)\n",
        "print(\"Множення на число:\", x * 2)\n",
        "print(\"Поелементне множення:\", x * y)\n",
        "print(\"Матричне множення:\", np.dot(x, y)) #обчислюєм скалярний добуток векторів"
      ]
    },
    {
      "cell_type": "markdown",
      "metadata": {
        "id": "7aGdszTGuMCC"
      },
      "source": [
        "9. Створіть двовимірний масив (матрицю) та розрахуйте: 1) мінімальне число, 2) максимальне число, 3) суму чисел, 4) мінімальні числа для кожного рядка, 5) максимальні числа для кожного стовпчика."
      ]
    },
    {
      "cell_type": "code",
      "execution_count": 67,
      "metadata": {
        "id": "RL_39YdauMKS"
      },
      "outputs": [
        {
          "name": "stdout",
          "output_type": "stream",
          "text": [
            "Мінімальне число: 3\n",
            "Максимальне число: 61\n",
            "Сума всіх чисел: 271\n",
            "Мінімальні числа в рядках: [10 16  3]\n",
            "Максимальні числа в стовпцях: [60 23 61]\n"
          ]
        }
      ],
      "source": [
        "matrix = np.array([[60, 10, 44], [16, 23, 61], [3, 17, 37]])\n",
        "\n",
        "print(\"Мінімальне число:\", matrix.min())\n",
        "print(\"Максимальне число:\", matrix.max())\n",
        "print(\"Сума всіх чисел:\", matrix.sum())\n",
        "print(\"Мінімальні числа в рядках:\", matrix.min(axis=1))\n",
        "print(\"Максимальні числа в стовпцях:\", matrix.max(axis=0))"
      ]
    },
    {
      "cell_type": "markdown",
      "metadata": {
        "id": "c_hNdOpjHRFo"
      },
      "source": [
        "10. Створіть матрицю , де деякі елементи повторюються. Знайдіть унікальні значення елементів цієї матриці та їхні частоти."
      ]
    },
    {
      "cell_type": "code",
      "execution_count": 71,
      "metadata": {},
      "outputs": [
        {
          "name": "stdout",
          "output_type": "stream",
          "text": [
            "Унікальні значення: [3 4 5 7 8]\n",
            "Частоти значень: [3 2 1 2 1]\n"
          ]
        }
      ],
      "source": [
        "matrix_with_duplicates = np.array([[4, 3, 7], [7, 4, 5], [8, 3, 3]])\n",
        "unique_values, counts = np.unique(matrix_with_duplicates, return_counts=True)\n",
        "\n",
        "print(\"Унікальні значення:\", unique_values)\n",
        "print(\"Частоти значень:\", counts)"
      ]
    },
    {
      "cell_type": "markdown",
      "metadata": {
        "id": "Usj7tyjnprEV"
      },
      "source": [
        "# II. Importing. Creating DF"
      ]
    },
    {
      "cell_type": "markdown",
      "metadata": {
        "id": "ePGNrYa6pxRY"
      },
      "source": [
        "0. Імпортувати бібліотеку pandas"
      ]
    },
    {
      "cell_type": "code",
      "execution_count": 19,
      "metadata": {
        "id": "KIPDNBqQpvkI"
      },
      "outputs": [],
      "source": [
        "import pandas as pd"
      ]
    },
    {
      "cell_type": "markdown",
      "metadata": {
        "id": "8g9-hgi5qWJv"
      },
      "source": [
        "11. Створити тестовий датафрейм зі списку, що містить записи пацієнтів про їхні прізвища, імена, дату народження, масу тіла та наявність медичного страхування. Одне зі значень зробить пустим. Ознайомтесь з типом кожної колонки."
      ]
    },
    {
      "cell_type": "code",
      "execution_count": 72,
      "metadata": {
        "id": "OvA4GvJ5qYb1"
      },
      "outputs": [
        {
          "name": "stdout",
          "output_type": "stream",
          "text": [
            "Прізвище            object\n",
            "Імя                 object\n",
            "Дата народження     object\n",
            "Маса тіла (кг)     float64\n",
            "Медстрахування        bool\n",
            "dtype: object\n"
          ]
        }
      ],
      "source": [
        "patients = pd.DataFrame({\n",
        "    'Прізвище': ['Лазор', 'Фуц', 'Косік'],\n",
        "    'Імя': ['Роман', 'Ісус', 'Вітя'],\n",
        "    'Дата народження': ['1990-05-14', '1985-09-23', '1993-07-11'],\n",
        "    'Маса тіла (кг)': [72, 63.7, None],   # одне значення робим пустим\n",
        "    'Медстрахування': [False, False, True]\n",
        "})\n",
        "print(patients.dtypes)"
      ]
    },
    {
      "cell_type": "markdown",
      "metadata": {
        "id": "b1SvVHjjqcv-"
      },
      "source": [
        "# III. Reading from file"
      ]
    },
    {
      "cell_type": "markdown",
      "metadata": {
        "id": "7HhZWLs_qhgq"
      },
      "source": [
        "12. Завантажити файл missile_attacks_daily.csv з [Kaggle](https://www.kaggle.com/datasets/piterfm/massive-missile-attacks-on-ukraine?select=missile_attacks_daily.csv). Ознайомитись з описом датасету. Додати файл до папки поточної сесії colab notebook на панелі ліворуч або на гугл диск (локально до проєкту, якщо працюєте у пайчармі). Зчитати датафрейм з файлу та вивести датафрейм на екран. Зверніть увагу на те, щоб всі колонки відповідали наведеним у описі типам даних."
      ]
    },
    {
      "cell_type": "code",
      "execution_count": null,
      "metadata": {
        "id": "oQcB3kIqqg0h"
      },
      "outputs": [
        {
          "name": "stdout",
          "output_type": "stream",
          "text": [
            "         time_start          time_end           model  \\\n",
            "0  2025-02-02 19:00  2025-02-03 09:00  Shahed-136/131   \n",
            "1  2025-02-01 21:00  2025-02-02 09:00  Shahed-136/131   \n",
            "2        2025-02-02        2025-02-02          Молнія   \n",
            "3        2025-02-02        2025-02-02            ZALA   \n",
            "4        2025-02-02        2025-02-02        Supercam   \n",
            "\n",
            "                                        launch_place   target carrier  \\\n",
            "0  Primorsko-Akhtarsk and Chauda, Crimea and Kurs...  Ukraine     NaN   \n",
            "1  Primorsko-Akhtarsk and Kursk oblast and Oryol ...  Ukraine     NaN   \n",
            "2                                                NaN    south     NaN   \n",
            "3                                                NaN    south     NaN   \n",
            "4                                                NaN    south     NaN   \n",
            "\n",
            "   launched  destroyed  not_reach_goal  cross_border_belarus  back_russia  \\\n",
            "0      71.0       38.0            25.0                   NaN          NaN   \n",
            "1      55.0       40.0            13.0                   NaN          NaN   \n",
            "2       5.0        5.0             NaN                   NaN          NaN   \n",
            "3       3.0        3.0             NaN                   NaN          NaN   \n",
            "4       5.0        5.0             NaN                   NaN          NaN   \n",
            "\n",
            "   still_attacking                                    affected region  \\\n",
            "0              NaN  ['Kharkiv oblast', 'Sumy oblast', 'Cherkasy ob...   \n",
            "1              NaN                  ['Kharkiv oblast', 'Sumy oblast']   \n",
            "2              NaN                                                NaN   \n",
            "3              NaN                                                NaN   \n",
            "4              NaN                                                NaN   \n",
            "\n",
            "                                   destroyed_details launched_details  \\\n",
            "0  {'Khmelnytskyi oblast': 2, 'Vinnytsia oblast':...              NaN   \n",
            "1  {'Odesa oblast and Mykolaiv oblast and Kherson...              NaN   \n",
            "2                                                NaN              NaN   \n",
            "3                                                NaN              NaN   \n",
            "4                                                NaN              NaN   \n",
            "\n",
            "  launch_place_details                                             source  \n",
            "0                  NaN  kpszsu/posts/pfbid02yjEwUfnvhyxx8yYjoAw6wquEj4...  \n",
            "1                  NaN  kpszsu/posts/pfbid027MDQHcpoaCZUeSLdSzw2kokeGh...  \n",
            "2                  NaN  PvKPivden/posts/pfbid025PREGufqtUXiDK2RuHeS644...  \n",
            "3                  NaN  PvKPivden/posts/pfbid025PREGufqtUXiDK2RuHeS644...  \n",
            "4                  NaN  PvKPivden/posts/pfbid025PREGufqtUXiDK2RuHeS644...  \n"
          ]
        }
      ],
      "source": [
        "df = pd.read_csv('D:/Vlad/Все ДЗ(2)/2/AI/Rep-AI/missile_attacks_daily.csv')\n",
        "print(df.head())"
      ]
    },
    {
      "cell_type": "code",
      "execution_count": 88,
      "metadata": {},
      "outputs": [
        {
          "name": "stdout",
          "output_type": "stream",
          "text": [
            "Index(['time_start', 'time_end', 'model', 'launch_place', 'target', 'carrier',\n",
            "       'launched', 'destroyed', 'not_reach_goal', 'cross_border_belarus',\n",
            "       'back_russia', 'still_attacking', 'affected region',\n",
            "       'destroyed_details', 'launched_details', 'launch_place_details',\n",
            "       'source'],\n",
            "      dtype='object')\n"
          ]
        }
      ],
      "source": [
        "#отримаєм колонки\n",
        "\n",
        "print(df.columns)"
      ]
    },
    {
      "cell_type": "markdown",
      "metadata": {
        "id": "89zu0WNErzd2"
      },
      "source": [
        "# IV. Data understanding"
      ]
    },
    {
      "cell_type": "markdown",
      "metadata": {
        "id": "LJqrTfHr2d1G"
      },
      "source": [
        "13. Виведіть на екран перші 10 рядків зчитаного датафрейму."
      ]
    },
    {
      "cell_type": "code",
      "execution_count": 52,
      "metadata": {},
      "outputs": [],
      "source": [
        "file_path = \"missile_attacks_daily.csv\"\n",
        "df = pd.read_csv(file_path)"
      ]
    },
    {
      "cell_type": "code",
      "execution_count": 74,
      "metadata": {
        "id": "GdVE9WYwr1sD"
      },
      "outputs": [
        {
          "name": "stdout",
          "output_type": "stream",
          "text": [
            "Перші 10 рядків:\n",
            "         time_start          time_end           model  \\\n",
            "0  2025-02-02 19:00  2025-02-03 09:00  Shahed-136/131   \n",
            "1  2025-02-01 21:00  2025-02-02 09:00  Shahed-136/131   \n",
            "2        2025-02-02        2025-02-02          Молнія   \n",
            "3        2025-02-02        2025-02-02            ZALA   \n",
            "4        2025-02-02        2025-02-02        Supercam   \n",
            "5        2025-02-02        2025-02-02          Lancet   \n",
            "6  2025-01-31 19:00  2025-02-01 09:00       X-59/X-69   \n",
            "7  2025-01-31 19:00  2025-02-01 09:00           X-31P   \n",
            "8  2025-01-31 19:00  2025-02-01 09:00       X-22/X-32   \n",
            "9  2025-01-31 19:00  2025-02-01 09:00     X-101/X-555   \n",
            "\n",
            "                                        launch_place   target  carrier  \\\n",
            "0  Primorsko-Akhtarsk and Chauda, Crimea and Kurs...  Ukraine      NaN   \n",
            "1  Primorsko-Akhtarsk and Kursk oblast and Oryol ...  Ukraine      NaN   \n",
            "2                                                NaN    south      NaN   \n",
            "3                                                NaN    south      NaN   \n",
            "4                                                NaN    south      NaN   \n",
            "5                                                NaN    south      NaN   \n",
            "6                                    Voronezh oblast  Ukraine      NaN   \n",
            "7                                          Black Sea  Ukraine      NaN   \n",
            "8                                                NaN  Ukraine  Tu-22M3   \n",
            "9                                                NaN  Ukraine  Tu-95MS   \n",
            "\n",
            "   launched  destroyed  not_reach_goal  cross_border_belarus  back_russia  \\\n",
            "0      71.0       38.0            25.0                   NaN          NaN   \n",
            "1      55.0       40.0            13.0                   NaN          NaN   \n",
            "2       5.0        5.0             NaN                   NaN          NaN   \n",
            "3       3.0        3.0             NaN                   NaN          NaN   \n",
            "4       5.0        5.0             NaN                   NaN          NaN   \n",
            "5       1.0        1.0             NaN                   NaN          NaN   \n",
            "6      10.0        NaN             NaN                   NaN          NaN   \n",
            "7       2.0        NaN             NaN                   NaN          NaN   \n",
            "8       8.0        NaN             NaN                   NaN          NaN   \n",
            "9       8.0        NaN             NaN                   NaN          NaN   \n",
            "\n",
            "   still_attacking                                    affected region  \\\n",
            "0              NaN  ['Kharkiv oblast', 'Sumy oblast', 'Cherkasy ob...   \n",
            "1              NaN                  ['Kharkiv oblast', 'Sumy oblast']   \n",
            "2              NaN                                                NaN   \n",
            "3              NaN                                                NaN   \n",
            "4              NaN                                                NaN   \n",
            "5              NaN                                                NaN   \n",
            "6              NaN                                                NaN   \n",
            "7              NaN                                                NaN   \n",
            "8              NaN                                                NaN   \n",
            "9              NaN                                                NaN   \n",
            "\n",
            "                                   destroyed_details launched_details  \\\n",
            "0  {'Khmelnytskyi oblast': 2, 'Vinnytsia oblast':...              NaN   \n",
            "1  {'Odesa oblast and Mykolaiv oblast and Kherson...              NaN   \n",
            "2                                                NaN              NaN   \n",
            "3                                                NaN              NaN   \n",
            "4                                                NaN              NaN   \n",
            "5                                                NaN              NaN   \n",
            "6                                                NaN              NaN   \n",
            "7                                                NaN              NaN   \n",
            "8                                                NaN              NaN   \n",
            "9                                                NaN              NaN   \n",
            "\n",
            "  launch_place_details                                             source  \n",
            "0                  NaN  kpszsu/posts/pfbid02yjEwUfnvhyxx8yYjoAw6wquEj4...  \n",
            "1                  NaN  kpszsu/posts/pfbid027MDQHcpoaCZUeSLdSzw2kokeGh...  \n",
            "2                  NaN  PvKPivden/posts/pfbid025PREGufqtUXiDK2RuHeS644...  \n",
            "3                  NaN  PvKPivden/posts/pfbid025PREGufqtUXiDK2RuHeS644...  \n",
            "4                  NaN  PvKPivden/posts/pfbid025PREGufqtUXiDK2RuHeS644...  \n",
            "5                  NaN  PvKPivden/posts/pfbid025PREGufqtUXiDK2RuHeS644...  \n",
            "6                  NaN  kpszsu/posts/pfbid0aFVytMd4cuXwcV5sNnABLnxXo3r...  \n",
            "7                  NaN  kpszsu/posts/pfbid0aFVytMd4cuXwcV5sNnABLnxXo3r...  \n",
            "8                  NaN  kpszsu/posts/pfbid0aFVytMd4cuXwcV5sNnABLnxXo3r...  \n",
            "9                  NaN  kpszsu/posts/pfbid0aFVytMd4cuXwcV5sNnABLnxXo3r...  \n"
          ]
        }
      ],
      "source": [
        "print(\"Перші 10 рядків:\")\n",
        "print(df.head(10))"
      ]
    },
    {
      "cell_type": "markdown",
      "metadata": {
        "id": "1PtkLHWj2lq0"
      },
      "source": [
        "14. Отримайте інформацію про форму датафрейму."
      ]
    },
    {
      "cell_type": "code",
      "execution_count": 77,
      "metadata": {
        "id": "CBPTYTjV2mtG"
      },
      "outputs": [
        {
          "name": "stdout",
          "output_type": "stream",
          "text": [
            "\n",
            "Форма датафрейму по кількісті рядків і колонок: (2079, 17)\n"
          ]
        }
      ],
      "source": [
        "print(\"\\nФорма датафрейму по кількісті рядків і колонок:\", df.shape)"
      ]
    },
    {
      "cell_type": "markdown",
      "metadata": {
        "id": "GDVcFC6F2yVz"
      },
      "source": [
        "15. Отримайте дані про кожну колонку з її назвою, типом даних та кількістю непустих значень."
      ]
    },
    {
      "cell_type": "code",
      "execution_count": 30,
      "metadata": {
        "id": "GTRgfKJ920bn"
      },
      "outputs": [
        {
          "name": "stdout",
          "output_type": "stream",
          "text": [
            "\n",
            "Інформація про колонки:\n",
            "<class 'pandas.core.frame.DataFrame'>\n",
            "RangeIndex: 2079 entries, 0 to 2078\n",
            "Data columns (total 17 columns):\n",
            " #   Column                Non-Null Count  Dtype  \n",
            "---  ------                --------------  -----  \n",
            " 0   time_start            2079 non-null   object \n",
            " 1   time_end              2079 non-null   object \n",
            " 2   model                 2079 non-null   object \n",
            " 3   launch_place          1050 non-null   object \n",
            " 4   target                2051 non-null   object \n",
            " 5   carrier               227 non-null    object \n",
            " 6   launched              2076 non-null   float64\n",
            " 7   destroyed             2075 non-null   float64\n",
            " 8   not_reach_goal        172 non-null    float64\n",
            " 9   cross_border_belarus  33 non-null     float64\n",
            " 10  back_russia           35 non-null     float64\n",
            " 11  still_attacking       31 non-null     float64\n",
            " 12  affected region       8 non-null      object \n",
            " 13  destroyed_details     309 non-null    object \n",
            " 14  launched_details      4 non-null      object \n",
            " 15  launch_place_details  4 non-null      object \n",
            " 16  source                2079 non-null   object \n",
            "dtypes: float64(6), object(11)\n",
            "memory usage: 276.2+ KB\n",
            "None\n"
          ]
        }
      ],
      "source": [
        "print(\"\\nІнформація про колонки:\")\n",
        "print(df.info()) #для відображення загальної інфи і тип колонок"
      ]
    },
    {
      "cell_type": "markdown",
      "metadata": {
        "id": "DEy-hgsw2452"
      },
      "source": [
        "16. Отримайте статистику для колонок числового типу."
      ]
    },
    {
      "cell_type": "code",
      "execution_count": 78,
      "metadata": {
        "id": "94mI2N9t267Q"
      },
      "outputs": [
        {
          "name": "stdout",
          "output_type": "stream",
          "text": [
            "\n",
            "Статистика колонок числового типу:\n",
            "          launched    destroyed  not_reach_goal  cross_border_belarus  \\\n",
            "count  2076.000000  2075.000000      172.000000             33.000000   \n",
            "mean     11.114644     7.769639       21.720930              2.303030   \n",
            "std      22.047798    14.678258       19.729546              2.023068   \n",
            "min       1.000000     0.000000        1.000000              1.000000   \n",
            "25%       1.000000     1.000000        4.750000              1.000000   \n",
            "50%       2.000000     1.000000       17.500000              2.000000   \n",
            "75%       9.000000     7.000000       31.000000              2.000000   \n",
            "max     193.000000    99.000000      105.000000             10.000000   \n",
            "\n",
            "       back_russia  still_attacking  \n",
            "count    35.000000        31.000000  \n",
            "mean      2.000000         2.709677  \n",
            "std       1.137593         2.818907  \n",
            "min       1.000000         1.000000  \n",
            "25%       1.000000         1.000000  \n",
            "50%       2.000000         1.000000  \n",
            "75%       3.000000         3.500000  \n",
            "max       5.000000        10.000000  \n"
          ]
        }
      ],
      "source": [
        "print(\"\\nСтатистика колонок числового типу:\")\n",
        "print(df.describe())"
      ]
    },
    {
      "cell_type": "markdown",
      "metadata": {
        "id": "n0MGJU2C2-iD"
      },
      "source": [
        "17. Отримати кількість унікальних значень у кожній колонці. Вивести на екран значення та кількість цих значень у колонці, яка має найменше унікальних значень."
      ]
    },
    {
      "cell_type": "code",
      "execution_count": 82,
      "metadata": {
        "id": "lQh_jdGe3BK5"
      },
      "outputs": [
        {
          "name": "stdout",
          "output_type": "stream",
          "text": [
            "\n",
            "Кількість унікальних значень по колонка:\n",
            "time_start               885\n",
            "time_end                1038\n",
            "model                     61\n",
            "launch_place             141\n",
            "target                    99\n",
            "carrier                   58\n",
            "launched                 120\n",
            "destroyed                 83\n",
            "not_reach_goal            58\n",
            "cross_border_belarus       7\n",
            "back_russia                5\n",
            "still_attacking            8\n",
            "affected region            8\n",
            "destroyed_details        305\n",
            "launched_details           4\n",
            "launch_place_details       4\n",
            "source                   980\n",
            "dtype: int64\n",
            "\n",
            "Колонка з найменшою кількістю унікальних значень: 'launched_details' 4\n"
          ]
        }
      ],
      "source": [
        "unique_counts = df.nunique()\n",
        "min_unique_col = unique_counts.idxmin()\n",
        "\n",
        "print(\"\\nКількість унікальних значень по колонка:\")\n",
        "print(unique_counts)\n",
        "print(f\"\\nКолонка з найменшою кількістю унікальних значень: '{min_unique_col}' {unique_counts[min_unique_col]}\")"
      ]
    },
    {
      "cell_type": "markdown",
      "metadata": {
        "id": "iVRkzUti3uC_"
      },
      "source": [
        "18. На основі отриманої інформації про датасет вище, опишіть по пунктах, що б ви виправили або на що б звернули увагу на кроці очищення даних і чому?"
      ]
    },
    {
      "cell_type": "code",
      "execution_count": 89,
      "metadata": {},
      "outputs": [
        {
          "name": "stdout",
          "output_type": "stream",
          "text": [
            "\n",
            "Вивід:\n",
            "Є пропущені значення, необхідно їх заповнити або видалити.\n"
          ]
        }
      ],
      "source": [
        "#можна проаналізувати пропущені значення і дублікати\n",
        "issues = []\n",
        "\n",
        "missing_values = df.isnull().sum()\n",
        "if missing_values.any():\n",
        "    issues.append(\"Є пропущені значення, необхідно їх заповнити або видалити.\")\n",
        "\n",
        "if df.duplicated().sum() > 0:\n",
        "    issues.append(\"Є дублікати, їх слід видалити.\")\n",
        "\n",
        "print(\"\\nВивід:\")\n",
        "for issue in issues:\n",
        "    print(issue)"
      ]
    },
    {
      "cell_type": "markdown",
      "metadata": {
        "id": "9_Q-Fcuo30zY"
      },
      "source": [
        "**місце для текстової відповіді**\n",
        "\n",
        "1.   Пункт списку\n",
        "2.   Пункт списку\n",
        "\n",
        "...\n"
      ]
    },
    {
      "cell_type": "markdown",
      "metadata": {
        "id": "Ue9ECz5-3_pq"
      },
      "source": [
        "# V. Data Cleaning"
      ]
    },
    {
      "cell_type": "markdown",
      "metadata": {
        "id": "ZtHUiSrV4CL-"
      },
      "source": [
        "19. Перетворити колонку launched у цілочислену (Int64). Перевірити, чи все пройшло, як очікувалось."
      ]
    },
    {
      "cell_type": "code",
      "execution_count": null,
      "metadata": {
        "id": "AWyo_-Un3xqz"
      },
      "outputs": [
        {
          "name": "stdout",
          "output_type": "stream",
          "text": [
            "Int64\n",
            "0    19700101\n",
            "1    19700101\n",
            "2    19700101\n",
            "3    19700101\n",
            "4    19700101\n",
            "Name: launched, dtype: Int64\n"
          ]
        }
      ],
      "source": [
        "df[\"launched\"] = pd.to_datetime(df[\"launched\"], errors=\"coerce\")\n",
        "df[\"launched\"] = df[\"launched\"].dt.strftime(\"%Y%m%d\").astype(\"Int64\")\n",
        "\n",
        "#перевірка\n",
        "print(df[\"launched\"].dtype)\n",
        "print(df[\"launched\"].head())"
      ]
    },
    {
      "cell_type": "markdown",
      "metadata": {
        "id": "KsHhM4EM4O3d"
      },
      "source": [
        "20. Видалити колонки, де кількість непустих значень становить менше 30% від загальної кількості записів."
      ]
    },
    {
      "cell_type": "code",
      "execution_count": 40,
      "metadata": {
        "id": "Z1ZCclle4Vyk"
      },
      "outputs": [
        {
          "name": "stdout",
          "output_type": "stream",
          "text": [
            "Залишилися колонки: Index(['time_start', 'time_end', 'model', 'launch_place', 'target', 'launched',\n",
            "       'destroyed', 'source'],\n",
            "      dtype='object')\n"
          ]
        }
      ],
      "source": [
        "threshold = 0.3 * len(df)\n",
        "df = df.dropna(thresh=threshold, axis=1)\n",
        "\n",
        "print(\"Залишилися колонки:\", df.columns)\n"
      ]
    },
    {
      "cell_type": "markdown",
      "metadata": {
        "id": "p8cD0M0U4cNT"
      },
      "source": [
        "21. Очистити датафрейм від дублікатів (дублюючихся рядків) та записів, де атака продовжувалась відʼємну або нульову кількість часу (що фізично неможливо). Не забудьте оновити індекс. Скільки рядків було видалено? Як ви це перевірили у коді?"
      ]
    },
    {
      "cell_type": "code",
      "execution_count": 44,
      "metadata": {
        "id": "in3Fvn0I4l-I"
      },
      "outputs": [
        {
          "name": "stdout",
          "output_type": "stream",
          "text": [
            "Було видалено 841 рядків.\n"
          ]
        }
      ],
      "source": [
        "initial_rows = df.shape[0]\n",
        "\n",
        "df = df.drop_duplicates()\n",
        "\n",
        "df = df[~((df[\"time_start\"] == df[\"time_end\"]) | (df[\"launch_place\"] == 0))]\n",
        "\n",
        "df = df.reset_index(drop=True)\n",
        "\n",
        "removed_rows = initial_rows - df.shape[0]\n",
        "print(f\"Видалено {removed_rows} рядків.\")"
      ]
    },
    {
      "cell_type": "markdown",
      "metadata": {
        "id": "8zqL82Ie4nqY"
      },
      "source": [
        "**місце для текстової відповіді**"
      ]
    },
    {
      "cell_type": "code",
      "execution_count": null,
      "metadata": {
        "id": "GoHlOjXj4sIw"
      },
      "outputs": [],
      "source": [
        "#можна перевірити чи дійсно було видалено дублікати через:\n",
        "\n",
        "# print(df.duplicated().sum())"
      ]
    },
    {
      "cell_type": "markdown",
      "metadata": {
        "id": "6oZ7C_ry4uvb"
      },
      "source": [
        "22. Виведіть на екран всі рядки, де є хоч одне пропущене значення."
      ]
    },
    {
      "cell_type": "code",
      "execution_count": 50,
      "metadata": {
        "id": "BPmCTDtg4wVS"
      },
      "outputs": [
        {
          "name": "stdout",
          "output_type": "stream",
          "text": [
            "            time_start          time_end           model     launch_place  \\\n",
            "2     2025-01-31 19:00  2025-02-01 09:00       X-59/X-69  Voronezh oblast   \n",
            "3     2025-01-31 19:00  2025-02-01 09:00           X-31P        Black Sea   \n",
            "4     2025-01-31 19:00  2025-02-01 09:00       X-22/X-32              NaN   \n",
            "5     2025-01-31 19:00  2025-02-01 09:00     X-101/X-555              NaN   \n",
            "53    2025-01-03 12:00  2025-01-03 20:00       X-59/X-69              NaN   \n",
            "...                ...               ...             ...              ...   \n",
            "1233  2022-10-06 09:00  2022-10-06 11:30       Mohajer-6              NaN   \n",
            "1234        2022-10-06  2022-10-06 02:00  Shahed-136/131              NaN   \n",
            "1235        2022-10-05  2022-10-05 02:00  Shahed-136/131              NaN   \n",
            "1236  2022-10-02 00:00  2022-10-02 02:00  Shahed-136/131              NaN   \n",
            "1237  2022-09-29 23:00  2022-09-29 23:59  Shahed-136/131              NaN   \n",
            "\n",
            "                                target  launched  destroyed  \\\n",
            "2                              Ukraine  19700101        NaN   \n",
            "3                              Ukraine  19700101        NaN   \n",
            "4                              Ukraine  19700101        NaN   \n",
            "5                              Ukraine  19700101        NaN   \n",
            "53               Dnipropetrovsk oblast  19700101        3.0   \n",
            "...                                ...       ...        ...   \n",
            "1233                   Mykolaiv oblast  19700101        1.0   \n",
            "1234                             south  19700101        9.0   \n",
            "1235                             south  19700101        6.0   \n",
            "1236                   Mykolaiv oblast  19700101        5.0   \n",
            "1237  Odesa oblast and Mykolaiv oblast  19700101        5.0   \n",
            "\n",
            "                                                 source  \n",
            "2     kpszsu/posts/pfbid0aFVytMd4cuXwcV5sNnABLnxXo3r...  \n",
            "3     kpszsu/posts/pfbid0aFVytMd4cuXwcV5sNnABLnxXo3r...  \n",
            "4     kpszsu/posts/pfbid0aFVytMd4cuXwcV5sNnABLnxXo3r...  \n",
            "5     kpszsu/posts/pfbid0aFVytMd4cuXwcV5sNnABLnxXo3r...  \n",
            "53    kpszsu/posts/pfbid02v1KGGb6TjgiYbVUoMCWPuAVZYn...  \n",
            "...                                                 ...  \n",
            "1233  kpszsu/posts/pfbid02YPkepucHoDQbmGfZURk8ScqNyM...  \n",
            "1234  kpszsu/posts/pfbid0cUxYK69qorY8Td3GYrEifznzmJd...  \n",
            "1235  kpszsu/posts/pfbid0ijKPtn19ybY71UFsnyhNA7YCx9i...  \n",
            "1236  kpszsu/posts/pfbid021aK2TqryAuB8gGrDYMTv3R8Xiu...  \n",
            "1237  kpszsu/posts/pfbid021aK2TqryAuB8gGrDYMTv3R8Xiu...  \n",
            "\n",
            "[294 rows x 8 columns]\n"
          ]
        }
      ],
      "source": [
        "missing_rows = df[df.isnull().any(axis=1)]\n",
        "print(missing_rows)"
      ]
    }
  ],
  "metadata": {
    "colab": {
      "collapsed_sections": [
        "dwSyU2AjXwc-"
      ],
      "provenance": []
    },
    "kernelspec": {
      "display_name": "Python 3",
      "name": "python3"
    },
    "language_info": {
      "codemirror_mode": {
        "name": "ipython",
        "version": 3
      },
      "file_extension": ".py",
      "mimetype": "text/x-python",
      "name": "python",
      "nbconvert_exporter": "python",
      "pygments_lexer": "ipython3",
      "version": "3.8.2"
    }
  },
  "nbformat": 4,
  "nbformat_minor": 0
}
